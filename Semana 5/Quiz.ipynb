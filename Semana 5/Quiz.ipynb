{
 "cells": [
  {
   "cell_type": "code",
   "execution_count": 1,
   "metadata": {},
   "outputs": [],
   "source": [
    "import numpy as np\n",
    "U = np.array([\n",
    "    [1, 0.1],\n",
    "    [-1, 0],\n",
    "    [0.2, -1],\n",
    "    [0.1, 1]\n",
    "])\n",
    "\n",
    "# Matriz V que representa a las canciones\n",
    "V = np.array([\n",
    "    [0.9, -0.2],\n",
    "    [-1, -0.8],\n",
    "    [1, -1],\n",
    "    [1, 0.9],\n",
    "    [-0.9, 1]\n",
    "])"
   ]
  },
  {
   "cell_type": "code",
   "execution_count": 2,
   "metadata": {},
   "outputs": [
    {
     "name": "stdout",
     "output_type": "stream",
     "text": [
      "[[ 0.88 -1.08  0.9   1.09 -0.8 ]\n",
      " [-0.9   1.   -1.   -1.    0.9 ]\n",
      " [ 0.38  0.6   1.2  -0.7  -1.18]\n",
      " [-0.11 -0.9  -0.9   1.    0.91]]\n"
     ]
    }
   ],
   "source": [
    "A = np.dot(U, V.T)\n",
    "print(A)"
   ]
  }
 ],
 "metadata": {
  "kernelspec": {
   "display_name": "VSCEnv",
   "language": "python",
   "name": "python3"
  },
  "language_info": {
   "codemirror_mode": {
    "name": "ipython",
    "version": 3
   },
   "file_extension": ".py",
   "mimetype": "text/x-python",
   "name": "python",
   "nbconvert_exporter": "python",
   "pygments_lexer": "ipython3",
   "version": "3.10.13"
  }
 },
 "nbformat": 4,
 "nbformat_minor": 2
}

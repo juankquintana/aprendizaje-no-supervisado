{
 "cells": [
  {
   "cell_type": "markdown",
   "metadata": {},
   "source": [
    "<div >\n",
    "<img src = \"figs/ans_banner_1920x200.png\" />\n",
    "</div>"
   ]
  },
  {
   "cell_type": "markdown",
   "metadata": {},
   "source": [
    "# Revisión de Álgebra Lineal con [Numpy](http://www.numpy.org/)"
   ]
  },
  {
   "cell_type": "markdown",
   "metadata": {},
   "source": [
    "Este *cuaderno* contiene una breve revisión sobre conceptos de Álgebra lineal y el uso de la librería [NumPy](http://www.numpy.org/). Dicha librería, cuyo nombre proviene de \"Numerical Python\", es fundamental en el ecosistema de `Python` para el procesamiento numérico y científico de datos. Una de sus principales ventajas es la inclusión de una amplia gama de funciones matemáticas para realizar operaciones de Álgebra Lineal y estadísticas, que utilizaremos en las actividades de este curso.\n",
    "\n",
    "Al final, se encuentran ejercicios asociados a los contenidos del cuaderno para que los resuelvas por tu cuenta (no es necesario entregarlos). Si tienes dudas sobre los contenidos o los ejercicios, consulta con el tutor.\n",
    "\n",
    "**NO** es necesario editar el archivo o hacer una entrega. Los ejemplos contienen celdas con código ejecutable (`en gris`), que podrá modificar  libremente. Esta puede ser una buena forma de aprender nuevas funcionalidades del *cuaderno*, o experimentar variaciones en los códigos de ejemplo.\n"
   ]
  },
  {
   "cell_type": "markdown",
   "metadata": {},
   "source": [
    "## Vectores\n",
    "\n",
    "Un vector es una serie de números que tienen un orden preestablecido, y podemos identificar cada número por un índice que indica ese orden. Podemos pensar en los vectores como las coordenadas de puntos en el espacio, con cada elemento indicando la ubicación a lo largo de un eje diferente. Existen dos tipos de vectores, los vectores fila:\n",
    "\n",
    "$$ a = \\begin{bmatrix} 5 & 9 & 7 \\end{bmatrix}  $$\n",
    "\n",
    " y los vectores columna:\n",
    "\n",
    "$$ b= \\begin{bmatrix} 1 \\\\ 2 \\\\ 3 \\end{bmatrix} $$\n",
    "\n",
    "\n",
    "En `Python`, podemos representar a un *vector* con una *lista*, o preferiblemente, con un *array* de [Numpy](http://www.numpy.org/) :\n",
    "\n",
    "- Vector como *lista* de `Python`"
   ]
  },
  {
   "cell_type": "code",
   "execution_count": 1,
   "metadata": {
    "jupyter": {
     "outputs_hidden": false
    }
   },
   "outputs": [
    {
     "data": {
      "text/plain": [
       "[5, 9, 7]"
      ]
     },
     "execution_count": 1,
     "metadata": {},
     "output_type": "execute_result"
    }
   ],
   "source": [
    "a = [5, 9, 7]\n",
    "a"
   ]
  },
  {
   "cell_type": "markdown",
   "metadata": {},
   "source": [
    "- Vectores como *array* de [Numpy](http://www.numpy.org/) "
   ]
  },
  {
   "cell_type": "code",
   "execution_count": 2,
   "metadata": {
    "jupyter": {
     "outputs_hidden": false
    }
   },
   "outputs": [
    {
     "data": {
      "text/plain": [
       "array([1, 2, 3])"
      ]
     },
     "execution_count": 2,
     "metadata": {},
     "output_type": "execute_result"
    }
   ],
   "source": [
    "import numpy as np # Recordemos llamar la librería numpy\n",
    "\n",
    "b = np.array([1, 2, 3]) \n",
    "b"
   ]
  },
  {
   "cell_type": "markdown",
   "metadata": {},
   "source": [
    "o de forma similar utilizando la función `arange`:"
   ]
  },
  {
   "cell_type": "code",
   "execution_count": 3,
   "metadata": {
    "jupyter": {
     "outputs_hidden": false
    }
   },
   "outputs": [
    {
     "data": {
      "text/plain": [
       "array([1, 2, 3, 4, 5, 6, 7])"
      ]
     },
     "execution_count": 3,
     "metadata": {},
     "output_type": "execute_result"
    }
   ],
   "source": [
    "c = np.arange(1, 8) \n",
    "c"
   ]
  },
  {
   "cell_type": "markdown",
   "metadata": {},
   "source": [
    "- Crear un vector con todos los elementos iguales a uno. Para ello podemos utilizar la función `ones` y el número de elementos:"
   ]
  },
  {
   "cell_type": "code",
   "execution_count": 4,
   "metadata": {
    "jupyter": {
     "outputs_hidden": false
    }
   },
   "outputs": [
    {
     "data": {
      "text/plain": [
       "array([1., 1., 1.])"
      ]
     },
     "execution_count": 4,
     "metadata": {},
     "output_type": "execute_result"
    }
   ],
   "source": [
    "d = np.ones(3) \n",
    "d"
   ]
  },
  {
   "cell_type": "markdown",
   "metadata": {},
   "source": [
    " - Transformar un vector fila en un vector columna con la función de transposición, que denotamos con los símbolos $T$ o $'$. Así, el transpuesto del vector $a$ es:\n",
    "\n",
    "    $$ a = \\begin{bmatrix} 5 \\\\ 9 \\\\ 7 \\end{bmatrix}  $$\n",
    "\n",
    "    En `Python` usamos la función `transpose`:"
   ]
  },
  {
   "cell_type": "code",
   "execution_count": 5,
   "metadata": {},
   "outputs": [
    {
     "data": {
      "text/plain": [
       "array([5, 9, 7])"
      ]
     },
     "execution_count": 5,
     "metadata": {},
     "output_type": "execute_result"
    }
   ],
   "source": [
    "np.transpose(a)"
   ]
  },
  {
   "cell_type": "markdown",
   "metadata": {},
   "source": [
    "### Operaciones con vectores\n",
    "\n",
    "Para operar sobre vectores debemos  tener en cuenta ciertas particularidades de operación.\n",
    "\n",
    "#### Suma y resta\n",
    "\n",
    "Cuando *sumamos* dos vectores, el resultado es la suma de cada elemento del vector:\n",
    "\n",
    "\n",
    "$$ \\begin{split}x + y\n",
    "=\n",
    "\\left[\n",
    "\\begin{array}{c}\n",
    "    x_1 \\\\\n",
    "    x_2 \\\\\n",
    "    \\vdots \\\\\n",
    "    x_n\n",
    "\\end{array}\n",
    "\\right]\n",
    "+\n",
    "\\left[\n",
    "\\begin{array}{c}\n",
    "     y_1 \\\\\n",
    "     y_2 \\\\\n",
    "    \\vdots \\\\\n",
    "     y_n\n",
    "\\end{array}\n",
    "\\right]\n",
    "=\n",
    "\\left[\n",
    "\\begin{array}{c}\n",
    "    x_1 + y_1 \\\\\n",
    "    x_2 + y_2 \\\\\n",
    "    \\vdots \\\\\n",
    "    x_n + y_n\n",
    "\\end{array}\n",
    "\\right]\\end{split}$$\n",
    "\n",
    "En `Python`:\n"
   ]
  },
  {
   "cell_type": "code",
   "execution_count": 6,
   "metadata": {
    "jupyter": {
     "outputs_hidden": false
    }
   },
   "outputs": [
    {
     "data": {
      "text/plain": [
       "array([3, 9])"
      ]
     },
     "execution_count": 6,
     "metadata": {},
     "output_type": "execute_result"
    }
   ],
   "source": [
    "x = np.array([1, 5]) \n",
    "y = np.array([2, 4])\n",
    "\n",
    "x+y\n"
   ]
  },
  {
   "cell_type": "markdown",
   "metadata": {},
   "source": [
    "Notemos que si utilizamos dos listas obtenemos el siguiente resultado:"
   ]
  },
  {
   "cell_type": "code",
   "execution_count": 7,
   "metadata": {},
   "outputs": [
    {
     "data": {
      "text/plain": [
       "[1, 2, 3, 4, 2, 4, 6, 8]"
      ]
     },
     "execution_count": 7,
     "metadata": {},
     "output_type": "execute_result"
    }
   ],
   "source": [
    "[1, 2, 3, 4] + [2, 4, 6, 8]"
   ]
  },
  {
   "cell_type": "markdown",
   "metadata": {},
   "source": [
    "En este caso `Python` no suma los elementos, sino que concatena las listas. Esta es una de las principales razones por las que preferimos utilizar arrays en [Numpy](http://www.numpy.org/) ."
   ]
  },
  {
   "cell_type": "markdown",
   "metadata": {},
   "source": [
    "\n",
    "La resta funciona de forma análoga a la suma:\n",
    "\n",
    "$$ \\begin{split}x - y\n",
    "=\n",
    "\\left[\n",
    "\\begin{array}{c}\n",
    "    x_1 \\\\\n",
    "    x_2 \\\\\n",
    "    \\vdots \\\\\n",
    "    x_n\n",
    "\\end{array}\n",
    "\\right]\n",
    "-\n",
    "\\left[\n",
    "\\begin{array}{c}\n",
    "     y_1 \\\\\n",
    "     y_2 \\\\\n",
    "    \\vdots \\\\\n",
    "     y_n\n",
    "\\end{array}\n",
    "\\right]\n",
    "=\n",
    "\\left[\n",
    "\\begin{array}{c}\n",
    "    x_1 - y_1 \\\\\n",
    "    x_2 - y_2 \\\\\n",
    "    \\vdots \\\\\n",
    "    x_n - y_n\n",
    "\\end{array}\n",
    "\\right]\\end{split}$$\n",
    "\n",
    "En `Python`:"
   ]
  },
  {
   "cell_type": "code",
   "execution_count": 8,
   "metadata": {
    "jupyter": {
     "outputs_hidden": false
    }
   },
   "outputs": [
    {
     "data": {
      "text/plain": [
       "array([-1,  1])"
      ]
     },
     "execution_count": 8,
     "metadata": {},
     "output_type": "execute_result"
    }
   ],
   "source": [
    "x - y"
   ]
  },
  {
   "cell_type": "markdown",
   "metadata": {},
   "source": [
    "#### Multiplicación por un escalar\n",
    "La *Multiplicación por un escalar* es una operación que toma un número $\\alpha$ (un escalar), y un vector $x$, para producir un nuevo vector donde cada elemento del vector $x$ es multiplicado por el número $\\alpha$.\n",
    "\n",
    "$$\\begin{split}\\alpha x\n",
    "=\n",
    "\\left[\n",
    "\\begin{array}{c}\n",
    "    \\alpha x_1 \\\\\n",
    "    \\alpha x_2 \\\\\n",
    "    \\vdots \\\\\n",
    "    \\alpha x_n\n",
    "\\end{array}\n",
    "\\right]\\end{split}$$\n",
    "\n",
    "En `Python`:"
   ]
  },
  {
   "cell_type": "code",
   "execution_count": 9,
   "metadata": {
    "jupyter": {
     "outputs_hidden": false
    }
   },
   "outputs": [
    {
     "data": {
      "text/plain": [
       "array([ 4, 20])"
      ]
     },
     "execution_count": 9,
     "metadata": {},
     "output_type": "execute_result"
    }
   ],
   "source": [
    "x * 4"
   ]
  },
  {
   "cell_type": "code",
   "execution_count": 10,
   "metadata": {
    "jupyter": {
     "outputs_hidden": false
    }
   },
   "outputs": [
    {
     "data": {
      "text/plain": [
       "array([12, 24])"
      ]
     },
     "execution_count": 10,
     "metadata": {},
     "output_type": "execute_result"
    }
   ],
   "source": [
    "y * 6"
   ]
  },
  {
   "cell_type": "markdown",
   "metadata": {},
   "source": [
    "#### Producto escalar \n",
    "\n",
    "El producto escalar, también  conocido como el producto interior, de dos vectores se define como la suma de los productos de sus elementos. Solemos representarlo matemáticamente como $< x, y >$ o $x'y$, donde $x$ e $y$ son dos vectores:\n",
    "\n",
    "$$< x, y > = x'y = \\sum_{i=1}^n x_i y_i$$\n",
    "\n",
    "\n",
    "\n",
    "En `Python` la función `dot` de [Numpy](http://www.numpy.org/) permite hacer esta operación: "
   ]
  },
  {
   "cell_type": "code",
   "execution_count": 11,
   "metadata": {
    "jupyter": {
     "outputs_hidden": false
    }
   },
   "outputs": [
    {
     "data": {
      "text/plain": [
       "22"
      ]
     },
     "execution_count": 11,
     "metadata": {},
     "output_type": "execute_result"
    }
   ],
   "source": [
    "np.dot(x, y)"
   ]
  },
  {
   "cell_type": "markdown",
   "metadata": {},
   "source": [
    "de forma equivalente, podemos hacer la suma del producto:"
   ]
  },
  {
   "cell_type": "code",
   "execution_count": 12,
   "metadata": {
    "jupyter": {
     "outputs_hidden": false
    }
   },
   "outputs": [
    {
     "data": {
      "text/plain": [
       "22"
      ]
     },
     "execution_count": 12,
     "metadata": {},
     "output_type": "execute_result"
    }
   ],
   "source": [
    "sum(x * y)"
   ]
  },
  {
   "cell_type": "markdown",
   "metadata": {},
   "source": [
    "Un concepto derivado del producto escalar es la *ortogonalidad*. Decimos que dos vectores son *ortogonales* cuando su producto escalar es igual a 0."
   ]
  },
  {
   "cell_type": "code",
   "execution_count": 13,
   "metadata": {},
   "outputs": [
    {
     "data": {
      "text/plain": [
       "0"
      ]
     },
     "execution_count": 13,
     "metadata": {},
     "output_type": "execute_result"
    }
   ],
   "source": [
    "x = np.array([3, 4])\n",
    "y = np.array([4, -3])\n",
    "\n",
    "np.dot(x, y)"
   ]
  },
  {
   "cell_type": "markdown",
   "metadata": {},
   "source": [
    "#### Norma de un vector\n",
    "Relacionado al concepto de producto escalar aparece el concepto de  *norma vectorial*. La norma de un vector $x$ (que denotamos con $||x||$) es una medida de la longitud del vector. \n",
    "\n",
    "Formalmente una norma es una función $f: \\mathbb{R}^n \\rightarrow \\mathbb{R}$ que satisface las siguientes propiedades:\n",
    "\n",
    "1. **No negativa.** Para todo $x\\in\\mathbb{R}^n,\\ f(x)\\geq0$.\n",
    "2. **Definida.** $f(x)=0$ si y solo si $x=0$.\n",
    "3. **Homogeneidad.** Para todo $x\\in\\mathbb{R}^n,\\ c\\in\\mathbb{R},\\ f(cx)=|c|f(x)$\n",
    "4. **Desigualdad triangular.** Para todo $x, y \\in\\mathbb{R}^n,\\ f(x+y)\\leq f(x) + f(y)$ \n",
    "\n",
    "Usualmente utilizamos la norma $l_2$, también conocida como Euclideana. Esta se define como:\n",
    "\n",
    "$$||x||_2= \\sqrt{x'x} = \\sqrt{\\sum_{i=1}^nx_i^2}$$ \n",
    "\n",
    "Note que $||x||_2^2=x'x$. "
   ]
  },
  {
   "cell_type": "markdown",
   "metadata": {},
   "source": [
    "En `Python` podemos usar la función `sqrt` y `dot`:"
   ]
  },
  {
   "cell_type": "code",
   "execution_count": 14,
   "metadata": {
    "jupyter": {
     "outputs_hidden": false
    }
   },
   "outputs": [
    {
     "data": {
      "text/plain": [
       "5.0"
      ]
     },
     "execution_count": 14,
     "metadata": {},
     "output_type": "execute_result"
    }
   ],
   "source": [
    "np.sqrt(np.dot(x, x))"
   ]
  },
  {
   "cell_type": "markdown",
   "metadata": {},
   "source": [
    "o directamente usando la función `linalg.norm`:"
   ]
  },
  {
   "cell_type": "code",
   "execution_count": 15,
   "metadata": {
    "jupyter": {
     "outputs_hidden": false
    }
   },
   "outputs": [
    {
     "data": {
      "text/plain": [
       "5.0"
      ]
     },
     "execution_count": 15,
     "metadata": {},
     "output_type": "execute_result"
    }
   ],
   "source": [
    "np.linalg.norm(x)"
   ]
  },
  {
   "cell_type": "markdown",
   "metadata": {},
   "source": [
    "Otro ejemplo de norma es la norma $l_1$, también conocida como la norma de Manhattan. Esta norma, frecuentemente utilizada en el análisis de datos y la optimización, se define de la siguiente manera:\n",
    "\n",
    "$$ ||x||_1 = \\sum_{i=1}^n |x_i|$$\n",
    "\n",
    "En este caso, la norma $l_1$ mide la suma de los valores absolutos de los componentes de un vector. Esta medida es útil para evaluar la \"longitud\" o \"magnitud\" de un vector en aplicaciones prácticas, especialmente cuando se necesita un enfoque que sea más robusto frente a valores atípicos.\n"
   ]
  },
  {
   "cell_type": "markdown",
   "metadata": {},
   "source": [
    "## Matrices\n",
    "\n",
    "Una *matriz* es un arreglo rectangular de números (llamados entradas o elementos de la matriz) que están  ordenados en filas y columnas. Por ejemplo, la matriz $A$:\n",
    "\n",
    "$$A=\\begin{bmatrix}0 & 1& \\\\-1 & 2 \\\\ -2 & 3\\end{bmatrix}$$\n",
    "\n",
    "El número de filas y columnas nos da el orden de la matriz. Así, la matriz $A$ es de orden $3\\times2$, es decir, es una matriz con 3 filas y 2 columnas.\n",
    "\n",
    "Entonces una matriz $A$ $n \\times k$ es un arreglo con n filas y k columnas, que podemos representarla de forma general de la siguiente manera:\n",
    "\n",
    "$$\\begin{split}A =\n",
    "\\left[\n",
    "\\begin{array}{cccc}\n",
    "    a_{11} & a_{12} & \\cdots & a_{1k} \\\\\n",
    "    a_{21} & a_{22} & \\cdots & a_{2k} \\\\\n",
    "    \\vdots & \\vdots &  & \\vdots \\\\\n",
    "    a_{n1} & a_{n2} & \\cdots & a_{nk}\n",
    "\\end{array}\n",
    "\\right]\\end{split}$$\n",
    "\n",
    "Donde $a_{nk}$ representa el elemento típico de la matriz ubicado en la  n-ésima  fila de la k-ésima columna. \n",
    "\n",
    "Notemos que los vectores son casos particulares de matrices donde $n$ o $k$ son iguales a 1. En el caso de $n=1$, tenemos un *vector fila*, mientras que en el caso de $k=1$ tenemos un *vector columna*.\n",
    "\n",
    "En `Python` creamos una matriz  utilizando una lista de vectores fila:"
   ]
  },
  {
   "cell_type": "code",
   "execution_count": 16,
   "metadata": {
    "jupyter": {
     "outputs_hidden": false
    }
   },
   "outputs": [],
   "source": [
    "A = np.array([[1, 3, 2],\n",
    "              [1, 0, 0],\n",
    "              [1, 2, 2]])\n",
    "\n",
    "B = np.array([[1, 0, 5],\n",
    "              [7, 5, 0],\n",
    "              [2, 1, 1]])"
   ]
  },
  {
   "cell_type": "markdown",
   "metadata": {},
   "source": [
    "### Matrices especiales"
   ]
  },
  {
   "cell_type": "markdown",
   "metadata": {},
   "source": [
    "#### Matriz cuadrada\n",
    "\n",
    "Una matriz cuadrada es una matriz que tiene el mismo número de filas que de columnas. Por ejemplo, la matriz $A$ definida anteriormente. \n",
    "\n",
    "En `Python` obtenemos  la dimensión  de una matriz, el número de filas y columnas, con la función `shape`:"
   ]
  },
  {
   "cell_type": "code",
   "execution_count": 17,
   "metadata": {},
   "outputs": [
    {
     "data": {
      "text/plain": [
       "(3, 3)"
      ]
     },
     "execution_count": 17,
     "metadata": {},
     "output_type": "execute_result"
    }
   ],
   "source": [
    "A.shape"
   ]
  },
  {
   "cell_type": "markdown",
   "metadata": {},
   "source": [
    "#### Matriz identidad\n",
    "\n",
    "La matriz identidad  es una matriz cuadrada cuyos elementos de la diagonal principal son (1) y el resto de los elementos ceros (0). Esta matriz la denotamos con la letra `I`.\n",
    "\n",
    "Por ejemplo, la matriz identidad de 3x3 sería la siguiente:\n",
    "\n",
    "$$I=\\begin{bmatrix}1 & 0 & 0 & \\\\0 & 1 & 0\\\\ 0 & 0 & 1\\end{bmatrix}$$\n",
    "\n",
    "En `Python` utilizamos la función `eye`:"
   ]
  },
  {
   "cell_type": "code",
   "execution_count": 18,
   "metadata": {
    "jupyter": {
     "outputs_hidden": false
    }
   },
   "outputs": [
    {
     "data": {
      "text/plain": [
       "array([[1., 0., 0.],\n",
       "       [0., 1., 0.],\n",
       "       [0., 0., 1.]])"
      ]
     },
     "execution_count": 18,
     "metadata": {},
     "output_type": "execute_result"
    }
   ],
   "source": [
    "I = np.eye(3)\n",
    "I"
   ]
  },
  {
   "cell_type": "markdown",
   "metadata": {},
   "source": [
    "#### Matriz transpuesta\n",
    "\n",
    "La matriz transpuesta es aquella en que las filas se transforman en columnas y las columnas en filas. Se representa con los símbolos $T$ o $'$. Por ejemplo:\n",
    "\n",
    "$$\\begin{bmatrix}a & b & \\\\ c & d & \\\\ e & f & \\end{bmatrix}^T=\\begin{bmatrix}a & c & e &\\\\b & d & f & \\end{bmatrix}$$\n",
    "\n",
    "En `Python` usamos la función `transpose`:"
   ]
  },
  {
   "cell_type": "code",
   "execution_count": 19,
   "metadata": {
    "jupyter": {
     "outputs_hidden": false
    }
   },
   "outputs": [
    {
     "data": {
      "text/plain": [
       "array([[1, 1, 1],\n",
       "       [3, 0, 2],\n",
       "       [2, 0, 2]])"
      ]
     },
     "execution_count": 19,
     "metadata": {},
     "output_type": "execute_result"
    }
   ],
   "source": [
    "np.transpose(A)"
   ]
  },
  {
   "cell_type": "markdown",
   "metadata": {},
   "source": [
    "#### Matriz inversa\n",
    "\n",
    "\n",
    "Denotamos con $A^{-1}$ la matriz inversa de una matriz cuadrada $A$, si se cumple que la multiplicación $A \\times A^{-1}$ es igual a la matriz identidad $I$, es decir:\n",
    "\n",
    "$$A \\times A^{-1} = A^{-1} \\times A = I$$\n",
    "\n",
    "Esto implica que la matriz inversa puede no existir. En tales casos, decimos que la matriz es singular. Por lo tanto, una matriz es singular si y solo si su *determinante* es nulo.\n",
    "\n",
    "\n",
    "En `Python` calculamos el determinante usando la función `linalg.det`:"
   ]
  },
  {
   "cell_type": "code",
   "execution_count": 20,
   "metadata": {
    "jupyter": {
     "outputs_hidden": false
    }
   },
   "outputs": [
    {
     "data": {
      "text/plain": [
       "-1.9999999999999998"
      ]
     },
     "execution_count": 20,
     "metadata": {},
     "output_type": "execute_result"
    }
   ],
   "source": [
    "np.linalg.det(A)"
   ]
  },
  {
   "cell_type": "markdown",
   "metadata": {},
   "source": [
    "y la inversa usando `np.linalg.inv`:"
   ]
  },
  {
   "cell_type": "code",
   "execution_count": 21,
   "metadata": {
    "jupyter": {
     "outputs_hidden": false
    }
   },
   "outputs": [
    {
     "data": {
      "text/plain": [
       "array([[ 2.22044605e-16,  1.00000000e+00, -2.22044605e-16],\n",
       "       [ 1.00000000e+00,  7.40148683e-17, -1.00000000e+00],\n",
       "       [-1.00000000e+00, -5.00000000e-01,  1.50000000e+00]])"
      ]
     },
     "execution_count": 21,
     "metadata": {},
     "output_type": "execute_result"
    }
   ],
   "source": [
    "A_inv = np.linalg.inv(A)\n",
    "A_inv"
   ]
  },
  {
   "cell_type": "markdown",
   "metadata": {},
   "source": [
    "La matriz inversa tiene ciertas propiedades que serán útiles para algunas aplicaciones del curso:\n",
    "\n",
    "- $(A^{-1})^{-1}=A$\n",
    "- $(AB)^{-1}=B^{-1}A^{-1}$\n",
    "- $(A^{-1})^T=(A^T)^{-1}$"
   ]
  },
  {
   "cell_type": "markdown",
   "metadata": {},
   "source": [
    "### Operaciones con matrices\n",
    "\n",
    "Al igual que con los *vectores*, podemos operar sobre matrices teniendo en cuenta ciertas reglas de operación."
   ]
  },
  {
   "cell_type": "markdown",
   "metadata": {},
   "source": [
    "\n",
    "#### Suma y resta\n",
    "\n",
    "Cuando *sumamos* (restamos) dos matrices, el resultado es la suma (resta) de cada elemento de las matrices \n",
    "\n",
    "$$\\begin{split}A + B =\n",
    "\\left[\n",
    "\\begin{array}{ccc}\n",
    "    a_{11} & \\cdots & a_{1k} \\\\\n",
    "    \\vdots & \\vdots & \\vdots \\\\\n",
    "    a_{n1} & \\cdots & a_{nk} \\\\\n",
    "\\end{array}\n",
    "\\right]\n",
    "+\n",
    "\\left[\n",
    "\\begin{array}{ccc}\n",
    "    b_{11} & \\cdots & b_{1k} \\\\\n",
    "    \\vdots & \\vdots & \\vdots \\\\\n",
    "    b_{n1} & \\cdots & b_{nk} \\\\\n",
    "\\end{array}\n",
    "\\right]\n",
    ":=\n",
    "\\left[\n",
    "\\begin{array}{ccc}\n",
    "    a_{11} + b_{11} &  \\cdots & a_{1k} + b_{1k} \\\\\n",
    "    \\vdots & \\vdots & \\vdots \\\\\n",
    "    a_{n1} + b_{n1} &  \\cdots & a_{nk} + b_{nk} \\\\\n",
    "\\end{array}\n",
    "\\right]\\end{split}$$\n",
    "\n",
    "$$\\begin{split}A - B =\n",
    "\\left[\n",
    "\\begin{array}{ccc}\n",
    "    a_{11} & \\cdots & a_{1k} \\\\\n",
    "    \\vdots & \\vdots & \\vdots \\\\\n",
    "    a_{n1} & \\cdots & a_{nk} \\\\\n",
    "\\end{array}\n",
    "\\right]-\n",
    "\\left[\n",
    "\\begin{array}{ccc}\n",
    "    b_{11} & \\cdots & b_{1k} \\\\\n",
    "    \\vdots & \\vdots & \\vdots \\\\\n",
    "    b_{n1} & \\cdots & b_{nk} \\\\\n",
    "\\end{array}\n",
    "\\right]\n",
    ":=\n",
    "\\left[\n",
    "\\begin{array}{ccc}\n",
    "    a_{11} - b_{11} &  \\cdots & a_{1k} - b_{1k} \\\\\n",
    "    \\vdots & \\vdots & \\vdots \\\\\n",
    "    a_{n1} - b_{n1} &  \\cdots & a_{nk} - b_{nk} \\\\\n",
    "\\end{array}\n",
    "\\right]\\end{split}$$\n",
    "\n",
    "Para sumar (restar) dos matrices, debemos  tener en cuenta que solo se pueden sumar o restar matrices que tengan el mismo orden. Por ejemplo, si tenemos una matriz A de dimensión 4x3 (4 filas y 3 columnas) solo podemos sumar (restar) una matriz con las mismas dimensiones  (4x3, 4 filas y 3 columnas).\n",
    "\n",
    "En `Python`:"
   ]
  },
  {
   "cell_type": "markdown",
   "metadata": {},
   "source": [
    "- Suma"
   ]
  },
  {
   "cell_type": "code",
   "execution_count": 22,
   "metadata": {
    "jupyter": {
     "outputs_hidden": false
    }
   },
   "outputs": [
    {
     "data": {
      "text/plain": [
       "array([[2, 3, 7],\n",
       "       [8, 5, 0],\n",
       "       [3, 3, 3]])"
      ]
     },
     "execution_count": 22,
     "metadata": {},
     "output_type": "execute_result"
    }
   ],
   "source": [
    "A + B"
   ]
  },
  {
   "cell_type": "markdown",
   "metadata": {},
   "source": [
    "- Resta"
   ]
  },
  {
   "cell_type": "code",
   "execution_count": 23,
   "metadata": {
    "jupyter": {
     "outputs_hidden": false
    }
   },
   "outputs": [
    {
     "data": {
      "text/plain": [
       "array([[ 0,  3, -3],\n",
       "       [-6, -5,  0],\n",
       "       [-1,  1,  1]])"
      ]
     },
     "execution_count": 23,
     "metadata": {},
     "output_type": "execute_result"
    }
   ],
   "source": [
    "A - B"
   ]
  },
  {
   "cell_type": "markdown",
   "metadata": {},
   "source": [
    "#### Multiplicación por un escalar"
   ]
  },
  {
   "cell_type": "markdown",
   "metadata": {},
   "source": [
    "La *Multiplicación por un escalar* es una operación que toma a un número  $\\kappa$ (un escalar), y una matriz $A$, para producir una nueva matriz donde cada elemento es multiplicado por el número $\\kappa$.\n",
    "\n",
    "$$\\begin{split}\\kappa A\n",
    "\\left[\n",
    "\\begin{array}{ccc}\n",
    "    a_{11} &  \\cdots & a_{1k} \\\\\n",
    "    \\vdots & \\vdots  & \\vdots \\\\\n",
    "    a_{n1} &  \\cdots & a_{nk} \\\\\n",
    "\\end{array}\n",
    "\\right]\n",
    "=\n",
    "\\left[\n",
    "\\begin{array}{ccc}\n",
    "    \\kappa a_{11} & \\cdots & \\kappa a_{1k} \\\\\n",
    "    \\vdots & \\vdots & \\vdots \\\\\n",
    "    \\kappa a_{n1} & \\cdots & \\kappa a_{nk} \\\\\n",
    "\\end{array}\n",
    "\\right]\\end{split}$$\n",
    "\n",
    "En `Python`:\n"
   ]
  },
  {
   "cell_type": "code",
   "execution_count": 24,
   "metadata": {
    "jupyter": {
     "outputs_hidden": false
    }
   },
   "outputs": [
    {
     "data": {
      "text/plain": [
       "array([[2, 6, 4],\n",
       "       [2, 0, 0],\n",
       "       [2, 4, 4]])"
      ]
     },
     "execution_count": 24,
     "metadata": {},
     "output_type": "execute_result"
    }
   ],
   "source": [
    "A * 2"
   ]
  },
  {
   "cell_type": "code",
   "execution_count": 25,
   "metadata": {
    "jupyter": {
     "outputs_hidden": false
    }
   },
   "outputs": [
    {
     "data": {
      "text/plain": [
       "array([[ 3,  0, 15],\n",
       "       [21, 15,  0],\n",
       "       [ 6,  3,  3]])"
      ]
     },
     "execution_count": 25,
     "metadata": {},
     "output_type": "execute_result"
    }
   ],
   "source": [
    "B * 3"
   ]
  },
  {
   "cell_type": "markdown",
   "metadata": {},
   "source": [
    "#### Producto matricial\n",
    "\n",
    "La multiplicación de matrices generaliza la idea del producto interior  de vectores. Para poder multiplicar matrices el número de columnas de la primera matriz debe ser igual al número de filas de la segunda matriz. El resultado de esta multiplicación va a ser una matriz que tiene el mismo número de filas que la primera matriz y el número de columnas de la segunda matriz. Por ejemplo: \n",
    "\n",
    "$$ A_{n \\times k} \\times B_{k \\times p} = C_{n \\times p} $$\n",
    "\n",
    "Es decir, si tenemos una matriz A de dimensión $n\\times k$ y la multiplicamos por una matriz B de dimensión $k \\times p$ , el resultado es una matriz C de dimensión $n \\times p$.\n",
    "\n",
    "Esto implica que la propiedad conmutativa no se cumple en el producto matricial, es decir, $AxB$ no es igual a $BxA$.\n",
    "\n",
    "En `Python`, comenzamos definiendo una matriz A de dimensión $3 \\times 4$:"
   ]
  },
  {
   "cell_type": "code",
   "execution_count": 26,
   "metadata": {
    "jupyter": {
     "outputs_hidden": false
    }
   },
   "outputs": [
    {
     "data": {
      "text/plain": [
       "array([[ 1,  2,  3,  4],\n",
       "       [ 5,  6,  7,  8],\n",
       "       [ 9, 10, 11, 12]])"
      ]
     },
     "execution_count": 26,
     "metadata": {},
     "output_type": "execute_result"
    }
   ],
   "source": [
    "A = np.arange(1, 13).reshape(3, 4) \n",
    "A"
   ]
  },
  {
   "cell_type": "markdown",
   "metadata": {},
   "source": [
    "y una matriz B de dimensión $4 \\times 2$:"
   ]
  },
  {
   "cell_type": "code",
   "execution_count": 27,
   "metadata": {
    "jupyter": {
     "outputs_hidden": false
    }
   },
   "outputs": [
    {
     "data": {
      "text/plain": [
       "array([[0, 1],\n",
       "       [2, 3],\n",
       "       [4, 5],\n",
       "       [6, 7]])"
      ]
     },
     "execution_count": 27,
     "metadata": {},
     "output_type": "execute_result"
    }
   ],
   "source": [
    "B = np.arange(8).reshape(4,2)\n",
    "B"
   ]
  },
  {
   "cell_type": "markdown",
   "metadata": {},
   "source": [
    "El producto resulta en una matriz de dimensión $3\\times 2$:"
   ]
  },
  {
   "cell_type": "code",
   "execution_count": 28,
   "metadata": {
    "jupyter": {
     "outputs_hidden": false
    }
   },
   "outputs": [
    {
     "data": {
      "text/plain": [
       "array([[ 40,  50],\n",
       "       [ 88, 114],\n",
       "       [136, 178]])"
      ]
     },
     "execution_count": 28,
     "metadata": {},
     "output_type": "execute_result"
    }
   ],
   "source": [
    "A.dot(B) "
   ]
  },
  {
   "cell_type": "markdown",
   "metadata": {},
   "source": [
    "Por otro lado, el producto de $B\\times A$ arroja un error porque el numero de columnas de B no es igual al número de filas de A."
   ]
  },
  {
   "cell_type": "code",
   "execution_count": 29,
   "metadata": {},
   "outputs": [
    {
     "ename": "ValueError",
     "evalue": "shapes (4,2) and (3,4) not aligned: 2 (dim 1) != 3 (dim 0)",
     "output_type": "error",
     "traceback": [
      "\u001b[0;31m---------------------------------------------------------------------------\u001b[0m",
      "\u001b[0;31mValueError\u001b[0m                                Traceback (most recent call last)",
      "\u001b[0;32m/tmp/ipykernel_151/2547720904.py\u001b[0m in \u001b[0;36m<module>\u001b[0;34m\u001b[0m\n\u001b[0;32m----> 1\u001b[0;31m \u001b[0mB\u001b[0m\u001b[0;34m.\u001b[0m\u001b[0mdot\u001b[0m\u001b[0;34m(\u001b[0m\u001b[0mA\u001b[0m\u001b[0;34m)\u001b[0m\u001b[0;34m\u001b[0m\u001b[0;34m\u001b[0m\u001b[0m\n\u001b[0m",
      "\u001b[0;31mValueError\u001b[0m: shapes (4,2) and (3,4) not aligned: 2 (dim 1) != 3 (dim 0)"
     ]
    }
   ],
   "source": [
    "B.dot(A)"
   ]
  },
  {
   "cell_type": "markdown",
   "metadata": {},
   "source": [
    "El elemento neutro del producto de matrices es la matriz identidad. Esto nos dice que cualquier matriz multiplicada por la matriz identidad  da como resultado la misma matriz. "
   ]
  },
  {
   "cell_type": "code",
   "execution_count": 30,
   "metadata": {},
   "outputs": [
    {
     "data": {
      "text/plain": [
       "array([[ 1.,  2.,  3.,  4.],\n",
       "       [ 5.,  6.,  7.,  8.],\n",
       "       [ 9., 10., 11., 12.]])"
      ]
     },
     "execution_count": 30,
     "metadata": {},
     "output_type": "execute_result"
    }
   ],
   "source": [
    "I.dot(A)"
   ]
  },
  {
   "cell_type": "markdown",
   "metadata": {},
   "source": [
    "#### Traza\n",
    "\n",
    "La traza es una operación  simple que solo esta definida para matrices **cuadradas**. La traza es la suma de los elementos de la diagonal de la matriz.\n",
    "\n",
    "$$tr(A)=\\sum_ {i=1}^n A_{ii}$$\n",
    "\n",
    "La traza tiene ciertas propiedades útiles:\n",
    "\n",
    "- Para $A\\in \\mathbb{R}^{n\\times n}$, $tr(A)=tr(A')$\n",
    "\n",
    "- Para $A,B \\in \\mathbb{R}^{n\\times n}$, $tr(A+B)=tr(A)+tr(B)$\n",
    "\n",
    "- Para $A \\in \\mathbb{R}^{n\\times n}$, $\\gamma \\in \\mathbb{R}$, $tr(\\gamma A)= \\gamma tr(A)$\n",
    "\n",
    "- Para $A, B$ tal que $AB$ sea una matriz cuadrada, $tr(AB)=tr(BA)$\n",
    "\n",
    "- Para $A, B, C$ tal que $ABC$ sea una matriz cuadrada, $tr(ABC)=tr(BCA)=tr(CAB)$. Esto sin perdida de generalidad para multiplicación de más matrices."
   ]
  },
  {
   "cell_type": "markdown",
   "metadata": {},
   "source": [
    "#### Eigenvalores y eigenvectores\n",
    "\n",
    "Un *eigenvector* (o vector propio) de $A$ es un vector no nulo $x$ que, cuando se le aplica la transformación $A$, se escala por un valor $\\lambda$, llamado *eigenvalor* (o valor propio). Matemáticamente, esto se expresa como:\n",
    "\n",
    "$$Ax=\\lambda x,\\ x \\neq 0$$\n",
    "\n",
    "donde\n",
    "\n",
    "   - $A$ es una matriz $n\\times n$\n",
    "   - $x$ es el *eigenvalor*\n",
    "   - $\\lambda$ es el eigenvalor correspondiente a $x$\n",
    "   \n",
    "   Geométricamente, esto significa que aplicar la transformación $A$ a $x$ no cambia la dirección de $x$; solo lo escala por el factor $\\lambda$. En otras palabras, los eigenvectores apuntan en direcciones que son inalteradas por la transformación, mientras que los eigenvalores indican cuánto se estiran o se comprimen esos eigenvectores.\n",
    "\n",
    "Notemos que para cualquier eigenvector $x$ y escalar $c$, se cumple que: \n",
    "\n",
    "$$A(cx)=cAx=c\\lambda x = \\lambda (cx)$$\n",
    "\n",
    "Por lo que $cx$ también es un eigenvector. Por este motivo, y para evitar tener infinitos eigenvectores, decimos que existe \"el\" eigenvector asociado a $\\lambda$ y que este está normalizado para tener norma 1. \n",
    "\n",
    "#### Cómo Encontrar Eigenvalores y Eigenvectores\n",
    "\n",
    "\n",
    "Para encontrar los eigenvalores de una matriz $A$, se resuelve el siguiente determinante:\n",
    "\n",
    "$$ \\text{det}(A - \\lambda I) = 0 $$\n",
    "\n",
    "Donde $I$ es la matriz identidad de la misma dimensión que $A$. Esta ecuación se llama la **ecuación característica** y es un polinomio en $\\lambda$. Las soluciones a esta ecuación son los eigenvalores de $A$).\n",
    "\n",
    "Una vez que se tienen los eigenvalores, los eigenvectores correspondientes se encuentran resolviendo el sistema de ecuaciones:\n",
    "\n",
    "$$ (A - \\lambda I) \\mathbf{v} = 0 $$\n",
    "\n",
    "Para cada eigenvalor $\\lambda$."
   ]
  },
  {
   "cell_type": "markdown",
   "metadata": {},
   "source": [
    "En `Python` podemos utilizar la función `linalg.eig`:"
   ]
  },
  {
   "cell_type": "code",
   "execution_count": 31,
   "metadata": {},
   "outputs": [
    {
     "name": "stdout",
     "output_type": "stream",
     "text": [
      "Eigenvalores: [0.52786405 9.47213595]\n",
      "Eigenvectores [[-0.97324899 -0.22975292]\n",
      " [ 0.22975292 -0.97324899]]\n"
     ]
    }
   ],
   "source": [
    "A = np.array([[1, 2], \n",
    "              [2, 9]])\n",
    "\n",
    "w,v=np.linalg.eig(A)\n",
    "print('Eigenvalores:', w)\n",
    "print('Eigenvectores', v)"
   ]
  },
  {
   "cell_type": "markdown",
   "metadata": {},
   "source": [
    "Los eigenvalores y los eigenvectores tienen ciertas propiedades que nos serán útiles para ciertas aplicaciones en el curso. Para todos los casos vamos a suponer que $A\\in\\mathbb{R}^{n\\times n}$ y que tiene $\\lambda_i, \\cdots, \\lambda_n$ eigenvalores:\n",
    "\n",
    "- La traza de $A$ es igual a la suma de los eigenvalores:\n",
    "$$tr(A)=\\sum_{i=1}^n\\lambda_i$$\n",
    "\n",
    "- El determinante de $A$ es igual al producto de los eigenvalores:\n",
    "$$|A|=\\prod_{i=1}^n\\lambda_i$$\n",
    "\n",
    "- El rango de $A$ es igual al número de eigenvalores de $A$ diferentes de cero.\n",
    "\n",
    "- Si $A$ es no singular con eigenvalor $\\lambda$ y un eigenvector asociado $x$, entonces $1/\\lambda$ es un eigenvalor de $A^{-1}$ con eigenvector asociado $x$. $A^{-1}x=(1/\\lambda)x$.\n",
    "\n",
    "- Los eigenvalores de una matriz diagonal $D=diag(d_1, d_2, \\cdots, d_n)$ son los elementos de la diagonal $d_1, d_2, \\cdots, d_n$.\n",
    "\n",
    "- Si la matriz $A$ tiene $n$ eigenvectores linealmente independientes, podemos ordenar esos vectores para conformar una matriz $S$ que sea cuadrada e invertible:\n",
    "\n",
    "    $$ AS = A \\begin{bmatrix} x_1 & x_2 & \\cdots & x_n \\end{bmatrix} $$\n",
    "\n",
    "    $$ = \\begin{bmatrix} \\lambda_1 x_1 & \\lambda_2 x_2 & \\cdots & \\lambda_n x_n \\end{bmatrix} $$\n",
    "\n",
    "    $$ S \\begin{bmatrix} \\lambda_1 & 0 & \\cdots & 0 \\\\ 0 & \\lambda_2 & & 0 \\\\ \\vdots & & \\ddots & \\vdots \\\\ 0 & \\cdots & 0 & \\lambda_n \\end{bmatrix} = S\\Lambda$$\n",
    "    \n",
    "donde $\\Lambda$ es una matriz diagonal en donde los valores que no son cero corresponden a los eigenvalores de $A$. Como las columnas de $S$ son independientes, $S^{-1}$ existe y por ende podemos multiplicar a ambos lados de $AS=S\\Lambda$ por $S^{-1}$:\n",
    "\n",
    "\\begin{align}\n",
    "    S^{-1}AS &=\\Lambda  \\\\\n",
    "     A &= S\\Lambda S^{-1}\n",
    "\\end{align}    \n",
    "\n",
    "Esta propiedad se conoce también como la descomposición espectral.\n",
    "\n",
    "\n",
    "Los eigenvalores y eigenvectores son herramientas poderosas para entender las propiedades de las transformaciones lineales y tienen aplicaciones directas en técnicas de análisis de datos como el análisis de componentes principales (PCA). En PCA, los eigenvectores determinan las direcciones de máxima varianza en los datos, mientras que los eigenvalores indican la cantidad de varianza en esas direcciones. Esto permite reducir la dimensionalidad de los datos al enfocarse en las direcciones más importantes."
   ]
  },
  {
   "cell_type": "markdown",
   "metadata": {},
   "source": [
    "## Ejercicios de repaso\n",
    "\n",
    "Resuelva los siguientes problemas. Intente realizarlos primero sin ayuda de `Python` y luego verifique su solución con los comandos de `Python`.\n",
    "\n",
    "1. Sea $A = \\begin{bmatrix} 7 & 10 \\\\ 1 & -2 \\end{bmatrix}$, $B = \\begin{bmatrix} 3 & 0 \\\\ 8 & -1 \\end{bmatrix}$. Encuentre:\n",
    "\n",
    "    a. $A^{9}$\n",
    "\n",
    "    b. $B^{5}$\n",
    "\n",
    "    c. $C=AB$\n",
    "    \n",
    "2. Encuentre el ángulo entre los siguientes vectores en radianes y grados.\n",
    "\n",
    "    a. $\\begin{cases}\n",
    "a=2i-1j+7k\\\\\n",
    "b=i+2j\n",
    "\\end{cases}$\n",
    "    \n",
    "    b. $\\begin{cases} a = \\begin{bmatrix} 1 \\\\ 0 \\\\ 1 \\end{bmatrix} \\\\ b = \\begin{bmatrix} 1 \\\\ 1 \\\\ 0 \\end{bmatrix} \\end{cases}$\n",
    "\n",
    "3. Halle el área del paralelogramo limitado por las rectas $x-2y=3$, $x-2y=10$, $2x+3y=-1$ y $2x+3y=-8$ a partir del cálculo de un determinante.\n",
    "\n",
    "4. Halle el volumen del paralelepípedo  generado por los vectores $a=[2,-1,-2]$, $b=[1,2,-3]$ y $c=[-1,3,5]$ a partir del cálculo de un determinante."
   ]
  },
  {
   "cell_type": "markdown",
   "metadata": {},
   "source": [
    " # Conclusión\n",
    " \n",
    " En este *cuaderno* hicimos una breve revisión sobre vectores y matrices, y su implementación en `Python` utilizando la librería **[Numpy](http://www.numpy.org/)**. Estas van a ser algunas de las funciones que necesitaremos para el desarrollo de buena parte de las actividades de este curso.\n",
    "Al ser un resumen, no es exhaustivo, por lo que lo invitamos a a explorar por si mismo y leer las documentaciones de [`Python`](https://python-docs-es.readthedocs.io/es/3.9/index.html) y [Numpy](http://www.numpy.org/)."
   ]
  },
  {
   "cell_type": "markdown",
   "metadata": {},
   "source": [
    "# Información de Sesión"
   ]
  },
  {
   "cell_type": "code",
   "execution_count": 32,
   "metadata": {},
   "outputs": [
    {
     "name": "stdout",
     "output_type": "stream",
     "text": [
      "-----\n",
      "numpy               1.21.6\n",
      "session_info        1.0.0\n",
      "-----\n",
      "IPython             7.34.0\n",
      "jupyter_client      7.4.9\n",
      "jupyter_core        4.12.0\n",
      "jupyterlab          2.1.1\n",
      "notebook            6.0.3\n",
      "-----\n",
      "Python 3.7.6 | packaged by conda-forge | (default, Mar 23 2020, 23:03:20) [GCC 7.3.0]\n",
      "Linux-6.5.0-1020-aws-x86_64-with-debian-buster-sid\n",
      "-----\n",
      "Session information updated at 2024-07-23 23:16\n"
     ]
    }
   ],
   "source": [
    "import session_info\n",
    "\n",
    "session_info.show(html=False)"
   ]
  },
  {
   "cell_type": "code",
   "execution_count": null,
   "metadata": {},
   "outputs": [],
   "source": []
  }
 ],
 "metadata": {
  "interpreter": {
   "hash": "8fac594bfae6525c0c41b4041d2d72effa188cc8ead05f81b1fab2bb098927fb"
  },
  "kernelspec": {
   "display_name": "Python 3 (ipykernel)",
   "language": "python",
   "name": "python3"
  },
  "language_info": {
   "codemirror_mode": {
    "name": "ipython",
    "version": 3
   },
   "file_extension": ".py",
   "mimetype": "text/x-python",
   "name": "python",
   "nbconvert_exporter": "python",
   "pygments_lexer": "ipython3",
   "version": "3.7.6"
  },
  "toc": {
   "base_numbering": 1,
   "nav_menu": {},
   "number_sections": true,
   "sideBar": true,
   "skip_h1_title": false,
   "title_cell": "Table of Contents",
   "title_sidebar": "Contents",
   "toc_cell": false,
   "toc_position": {
    "height": "calc(100% - 180px)",
    "left": "10px",
    "top": "150px",
    "width": "402px"
   },
   "toc_section_display": true,
   "toc_window_display": true
  }
 },
 "nbformat": 4,
 "nbformat_minor": 4
}

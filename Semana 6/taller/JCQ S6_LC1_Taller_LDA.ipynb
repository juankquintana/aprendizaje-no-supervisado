{
 "cells": [
  {
   "cell_type": "markdown",
   "metadata": {},
   "source": [
    "<div >\n",
    "<img src = \"figs/ans_banner_1920x200.png\" />\n",
    "</div>"
   ]
  },
  {
   "cell_type": "markdown",
   "metadata": {},
   "source": [
    "# Caso-taller:  Recomendando el Blog de  Hernán Casciari \n",
    "\n",
    "\n",
    "[Hernán Casciari](https://hernancasciari.com/#bio), es un escritor argentino, que escribe blog posts con cuentos e historias  relacionadas con el futbol, su vida, infancia, y relaciones familiares con toques de ficción. Este [blog](https://hernancasciari.com/blog/) es  tan interesantes que en 2005 fue premiado como “El mejor blog del mundo” por Deutsche Welle de Alemania. \n",
    "\n",
    "El objetivo de este caso-taller es construir un sistema de recomendación basado en los contenidos de los posts utilizando similitud de las palabras usadas o temas de los cuentos."
   ]
  },
  {
   "cell_type": "markdown",
   "metadata": {},
   "source": [
    "## Instrucciones generales\n",
    "\n",
    "1. Para desarrollar el *cuaderno* primero debe descargarlo.\n",
    "\n",
    "2. Para responder cada inciso deberá utilizar el espacio debidamente especificado.\n",
    "\n",
    "3. La actividad será calificada sólo si sube el *cuaderno* de jupyter notebook con extensión `.ipynb` en la actividad designada como \"Revisión por el compañero.\"\n",
    "\n",
    "4. El archivo entregado debe poder ser ejecutado localmente por los pares. Sea cuidadoso con la especificación de la ubicación de los archivos de soporte, guarde la carpeta de datos  en la misma ruta de acceso del cuaderno, por ejemplo: `data`."
   ]
  },
  {
   "cell_type": "markdown",
   "metadata": {},
   "source": [
    "## Desarrollo\n"
   ]
  },
  {
   "cell_type": "markdown",
   "metadata": {},
   "source": [
    "### 1. Carga de datos \n",
    "\n",
    "En la carpeta `data` se encuentran el archivo `blog_casciari.csv` con el título, la fecha de publicación, y el contenido de los cuentos publicados en el blog  de sr. Casciari. Cargue estos datos en su *cuaderno* y reporte brevemente el contenido de la base.\n",
    "   "
   ]
  },
  {
   "cell_type": "code",
   "execution_count": 77,
   "id": "093c2d68",
   "metadata": {},
   "outputs": [],
   "source": [
    "import pandas as pd\n",
    "import numpy as np\n",
    "import matplotlib.pyplot as plt\n",
    "import seaborn as sns\n",
    "import nltk\n"
   ]
  },
  {
   "cell_type": "code",
   "execution_count": 78,
   "metadata": {},
   "outputs": [
    {
     "name": "stdout",
     "output_type": "stream",
     "text": [
      "Shape de la base:  (520, 3)\n"
     ]
    },
    {
     "data": {
      "text/html": [
       "<div>\n",
       "<style scoped>\n",
       "    .dataframe tbody tr th:only-of-type {\n",
       "        vertical-align: middle;\n",
       "    }\n",
       "\n",
       "    .dataframe tbody tr th {\n",
       "        vertical-align: top;\n",
       "    }\n",
       "\n",
       "    .dataframe thead th {\n",
       "        text-align: right;\n",
       "    }\n",
       "</style>\n",
       "<table border=\"1\" class=\"dataframe\">\n",
       "  <thead>\n",
       "    <tr style=\"text-align: right;\">\n",
       "      <th></th>\n",
       "      <th>titulo</th>\n",
       "      <th>fecha</th>\n",
       "      <th>cuento</th>\n",
       "    </tr>\n",
       "  </thead>\n",
       "  <tbody>\n",
       "    <tr>\n",
       "      <th>0</th>\n",
       "      <td>El rincón blanco</td>\n",
       "      <td>1/11/08</td>\n",
       "      <td>De pronto yo estaba en el hogar donde pasé la ...</td>\n",
       "    </tr>\n",
       "    <tr>\n",
       "      <th>1</th>\n",
       "      <td>Mínimos avances en la cama</td>\n",
       "      <td>1/24/08</td>\n",
       "      <td>Menos la cama, todo ha mejorado en este mundo....</td>\n",
       "    </tr>\n",
       "    <tr>\n",
       "      <th>2</th>\n",
       "      <td>Don Marcos</td>\n",
       "      <td>2/19/08</td>\n",
       "      <td>Dos veces, y no una, mi abuelo materno me ayud...</td>\n",
       "    </tr>\n",
       "    <tr>\n",
       "      <th>3</th>\n",
       "      <td>Los dos rulfos</td>\n",
       "      <td>3/26/08</td>\n",
       "      <td>A su regreso de México, mi amigo Comequechu no...</td>\n",
       "    </tr>\n",
       "    <tr>\n",
       "      <th>4</th>\n",
       "      <td>La noticia no es el perro</td>\n",
       "      <td>4/15/08</td>\n",
       "      <td>De repente, un video de You Tube recibe un mil...</td>\n",
       "    </tr>\n",
       "  </tbody>\n",
       "</table>\n",
       "</div>"
      ],
      "text/plain": [
       "                       titulo    fecha  \\\n",
       "0            El rincón blanco  1/11/08   \n",
       "1  Mínimos avances en la cama  1/24/08   \n",
       "2                  Don Marcos  2/19/08   \n",
       "3              Los dos rulfos  3/26/08   \n",
       "4   La noticia no es el perro  4/15/08   \n",
       "\n",
       "                                              cuento  \n",
       "0  De pronto yo estaba en el hogar donde pasé la ...  \n",
       "1  Menos la cama, todo ha mejorado en este mundo....  \n",
       "2  Dos veces, y no una, mi abuelo materno me ayud...  \n",
       "3  A su regreso de México, mi amigo Comequechu no...  \n",
       "4  De repente, un video de You Tube recibe un mil...  "
      ]
     },
     "execution_count": 78,
     "metadata": {},
     "output_type": "execute_result"
    }
   ],
   "source": [
    "# Utilice este espacio para escribir el código.\n",
    "blog_casciari=pd.read_csv('data/blog_casciari.csv', sep=',')\n",
    "print('Shape de la base: ',blog_casciari.shape)\n",
    "blog_casciari.head()"
   ]
  },
  {
   "cell_type": "code",
   "execution_count": 79,
   "id": "71ed041c",
   "metadata": {},
   "outputs": [
    {
     "data": {
      "text/plain": [
       "'De pronto yo estaba en el hogar donde pasé la infancia; lo supo primero mi nariz. Los ojos se acostumbran tarde a la penumbra, pero mi olfato reconoció enseguida el olor inconfundible de la casa de la calle Treintaicinco. Siempre sabemos cuál es la fragancia del sitio donde crecimos; nadie acertaría a explicar de qué está compuesta, pero cada uno de nosotros es capaz de reconocer ese aroma entre miles. Y yo estaba ahora en mi casa de Mercedes. Exactamente en el sitio al que llamábamos el rincón blanco.\\nEl rincón blanco siempre fue el epicentro de la casa. El lugar por el que había que pasar para ir a cualquier parte. No era un rincón, sino una prominencia amplia que abultaba el pasillo justo por la mitad. Y tampoco estaba pintada de blanco, pero le decíamos así. Nunca supimos por qué.\\nEn todos los hogares hay recovecos y habitaciones que los mayores bautizan sin conciencia, y que luego nombran para siempre de una forma estrafalaria. Los hijos nacen y después crecen con la certidumbre de que esos apodos son estándares. Sólo las visitas reconocen el fallo:\\n—Dejá la campera y el portafolio en el rincón blanco —le decía yo a mis amigos cuando venían a tomar la leche.\\n—¿A dónde?\\n—Ahí, en el rincón blanco —y señalaba aquel sitio, empapelado con flores mustias sobre un fondo celeste, que solamente tenía un armario con cajones, un estante y un espejo.\\nLos niños que habitan las casas no tienen la menor idea de que algunas palabras —rincón blanco era la mía— no significan nada para el huésped ocasional, que sólo tienen sentido para los moradores, y a veces sólo para los moradores más antiguos.\\nQuizás ese lugar alguna vez haya sido blanco, es posible. Pero más tarde, después de mil manos de pintura, los habitantes mayores le siguen diciendo rincón blanco y los más jóvenes, por ejemplo mi hermana y yo, le decimos también así durante la infancia entera, y en la adolescencia, y también mucho después en el recuerdo, como si esas palabras fueran una referencia común en los hogares del mundo. Como si en todas las casas hubiera dormitorio, comedor, rinconblanco, baño y terraza.\\nUna tarde, cuando éramos todavía compañeros de primaria, mi amigo el Chiri me preguntó por qué le decíamos rincón blanco al sitio pequeño que quedaba en medio del pasillo, y entonces, sólo entonces y no antes, descubrí que no tenía el menor sentido llamar así a tres paredes empapeladas de tonos pastel. No supe qué responderle.\\nEn otras casas, en las ajenas, también había sitios bautizados por sus dueños de un modo extraño, lugares que los habitantes llamaban de forma especial sin darse cuenta, como por ejemplo el galpón de los juguetes, que era la habitación de mi amigo Sebastián, en donde no había juguetes sino libros y cacharros; o la cocina vieja de una compañera de mi adolescencia, que era un lavadero sucio detrás de un jardín. O los cuartos de soltero de los tíos díscolos que se van pronto de casa, pero que nuestras abuelas siguen llamando la pieza de toto para siempre.\\n—¡No entres a la pieza de toto, que no le gusta!\\nLas habitaciones guardan, también en su nombre, el recuerdo de lo que fueron, por eso ahora, que de repente he aparecido —aún no sé cómo— en la que fue mi casa de los ochenta, podía oler la frescura del rincón blanco aún sin verlo, y recordé largas tardes leyendo entre esas paredes libros de Mark Twain, o escuchando música de casete en un estéreo.\\nDe a poco mis ojos se habituaron a la falta de luz. Desde la habitación de mis padres, entreabierta y oscura, pude escuchar el murmullo de una conversación. Ya era pasada la medianoche, supuse, y estarían a punto de acostarse. Siempre tardaban muy poco en comenzar a roncar.\\nMi madre roncaba igual que una Vespa con la bujía empastada, y mi padre con un silbido musical. Los dos juntos, sincopados, se oían como un motociclista al que no le importa haber quedado en mitad del camino. Me hizo ilusión quedarme un rato y comenzar a escucharlos.\\nMás allá del pasillo la puerta de la cocina estaba cerrada, pero se adivinaba una hendija de luz del otro lado. Reconocí entonces el tecleo apagado de una máquina de escribir. Supe sin sorpresa ni escándalo, sin asombro ninguno, que del otro lado estaba yo mismo con quince años, quizás dieciséis, escribiendo mi primera novela.\\nAhora mismo, mientras narro estos detalles sensoriales, todavía no he decidido si estoy explicando un sueño o un cuento. Preferiría que fuese lo segundo: me gustaría caminar hasta la cocina, abrir la puerta y conversar con el adolescente que escribe, lleno de esperanzas y de trabas, su primera historia de largo aliento.\\nMe gustaría ayudarlo con la estructura del relato, y también —lo confieso— poder narrar aquí esa charla completa, más para mí que para ustedes, pero tengo demasiado presente El Otro, aquel cuento muy famoso en el que Borges, ya viejo, se topa con Borges joven en un banco de Cambridge, a la vera del río Charles, y el más viejo logra convencer al más joven de que son el mismo, y conversan sobre literatura.\\nHubiera sido vergonzoso, entonces, ir hasta la cocina y conversar conmigo mismo, porque esta historia, que se llama El rincón blanco, perdería muchísimo en comparación con la historia de El Otro. Mala suerte, hay cosas que ya no se pueden escribir mejor de lo que han sido escritas.\\nPero ya que estaba allí, decidí recorrer un poco la casa a oscuras, intentando no hacer nada que pudiera parecer borgeano. Comencé a caminar hasta el comedor tanteando las paredes con las manos abiertas y los brazos extendidos, dando pasos temblorosos, sin darme cuenta de que, en mi afán de no imitar la escritura de Borges, estaba plagiando su forma de moverse por las casas.\\nMe reí solo, mientras sacaba del bolsillo un encendedor para darme un poco de luz y no parecer un ciego.\\nAhora estaba de pie frente a la habitación de mi hermana. Entré con cuidado y acerqué el encendedor para verla dormir. Ella tendría doce años si yo tenía quince, y me sorprendió —al verla dormida— cuánto se parecía a mi hija. Ese descubrimiento, insospechado, fue quizás lo mejor del sueño, porque lo que viene después será mejor olvidarlo.\\nLa cara interior de su puerta fue otro hallazgo feliz. Hacía años que se había borrado de mi memoria ese pastiche rosa, espantoso. Florencia, en su primera juventud, escribía frases en la madera y en el marco, con rotuladores de mil colores. Y también hacía dibujitos cursis.\\n—Si lo amas déjalo libre —leí ahora—, si regresa siempre fue tuyo y si no biene nunca lo fue.\\nTambién había esta otra:\\n—Amor no es mirarse el uno al otro en los ojos, sino mirar los dos a la misma dirección —y ésta estaba rematada con unas flechas de colores lila, púrpura y rosa fuerte, y un corazón partido por la última flecha. Mi hermana no tenía una puerta, tenía un blog de MSN.\\nNo debí haberme regodeado tanto, porque cuando llegué a mi habitación de entonces se me cayó el alma al suelo. Yo era mucho peor que mi hermana; yo era directamente un farsante. Habría preferido mil veces ser cursi como ella y escribir cosas de amor en las puertas, en lugar de tener toda la habitación empapelada con afiches de escritores que jamás en la vida había leído.\\n¿Qué hacía esa foto de Lenin allí, con ese bigote absurdo? Y sobre todo, ¿por qué durante toda mi adolescencia yo estuve convencido de haber colgado una de Nietzsche? Regresaron, urgentes, mis deseos de entrar a la cocina, pero ya no para conversar conmigo mismo al estilo borgeano, sino para cagar a trompadas al gordito pelotudo que estaba adentro.\\nY lo habría hecho, con toda seguridad. Habría abierto la puerta de la cocina a patadas, me habría agarrado de mi camiseta de entonces con mis puños cerrados de ahora, me habría dicho que no fuera tan estúpido, que dejara de posar como un pavo real, que empezara de una vez por todas a disfrutar de la escritura en lugar de usarla como bandera, que escribiera menos, que escribiera solamente cuando me diera la gana y no cada puta noche como si de eso dependiera la salvación del mundo; me habría cacheteado, me habría pegado la cabeza contra la mesa hasta sacarme sangre, me habría hecho llorar por monigote y por pavo, de no haber sido porque escuché ruidos en la habitación de mis padres y me paralicé.\\nAlgo, no sé qué, los había despertado.\\nSaqué apenas la cabeza de mi habitación adolescente y me quedé así, escondido, sin hacer un solo movimiento de más. Roberto salió primero y encendió la luz del rincón blanco. Era una luz tenue, azulada. Detrás apareció Chichita, haciendo con los brazos gestos de frío. Los dos eran mucho más jóvenes de lo que yo hubiera imaginado. Pero no fue eso lo que más me llamó la atención, sino que estaban vestidos como para salir.\\n—No hagas ruido que está Hernán despierto —dijo mi padre, señalando la cocina y el traqueteo de la olivetti. Ella asintió.\\nFue extraño. Yo me escondía de ellos, y ellos se escondían de mí. Mi padre comenzó a tantearse los bolsillos mientras Chichita se arreglaba, con un dedo, la pintura de labios en el espejo que estaba sobre el estante.\\n—¿Tenés una birome? —preguntó él, en un susurro.\\nMi madre rebuscó en su cartera y le pasó una Bic azul sin decir palabra. Roberto abrió uno de los cajones del rincón blanco y sacó de allí una bolsa pequeña. Después descolgó el espejo pequeño y lo puso, boca arriba, en el estante. Chichita se acercó.\\n—A mí no me la hagás muy grande —dijo ella—, mejor guardá un poco y la llevamos.\\n—No, gorda, tomemos acá. No hagas cosas raras.\\nRoberto peinó dos rayas finas, del largo de un dedo índice, con la tarjeta amarilla del Automóvil Club. Después chupó el borde de la tarjeta y se pasó la lengua por los dientes. Vi a Chichita doblarse sobre el anaquel y aspirar con velocidad. Después él hizo lo mismo, pero más despacio. Cuando acabaron de tomar, mi padre guardó otra vez la bolsita en el cajón del armario, mi madre colgó el espejo en la pared y caminaron hasta la cocina sin entrar. Solamente me golpearon la puerta y me avisaron:\\n—Nos vamos a lo de Peti y Negra.\\nMe escuché a mí mismo, con una voz muy atildada, contestar:\\n—Bueno, yo después cierro.\\nAntes de salir a la noche de Mercedes, Roberto apagó la luz del rincón blanco y se revisó la nariz en el reflejo de la ventana.\\nHernán Casciari\\n11 enero, 2008'"
      ]
     },
     "execution_count": 79,
     "metadata": {},
     "output_type": "execute_result"
    }
   ],
   "source": [
    "blog_casciari['cuento'][0]"
   ]
  },
  {
   "cell_type": "markdown",
   "metadata": {},
   "source": [
    "La base contiene 520 cuentos, dando el titulo, la fecha de publicacion y el cuento corto de Hernán Casciari. \n"
   ]
  },
  {
   "cell_type": "markdown",
   "metadata": {},
   "source": [
    "### 2. Homogenización de textos\n",
    "\n",
    "Para cumplir con el objetivo de generar recomendaciones en esta sección debe preparar los posts para poder ser utilizados en su sistema de recomendación. Para ello, \"limpie\" y \"tokenize\" cada uno de los cuentos, describiendo detalladamente los pasos que realizo y si transformó o eliminó ciertas palabras. Para asistirlo en la tarea he creado listas de *stopwords* que están disponibles en la carpeta `data`. En su procedimiento ilustre la limpieza con el cuento 'La venganza del metegol'. (En su limpieza recuerde que el objetivo es generar recomendaciones a partir de la similitud de las palabras o temas de los cuentos)"
   ]
  },
  {
   "cell_type": "code",
   "execution_count": 80,
   "metadata": {},
   "outputs": [
    {
     "name": "stderr",
     "output_type": "stream",
     "text": [
      "c:\\Users\\WD\\.conda\\envs\\VSCEnv\\lib\\site-packages\\spacy\\util.py:910: UserWarning: [W095] Model 'es_core_news_sm' (3.7.0) was trained with spaCy v3.7.0 and may not be 100% compatible with the current version (3.8.0). If you see errors or degraded performance, download a newer compatible model or retrain your custom model with the current spaCy version. For more details and available updates, run: python -m spacy validate\n",
      "  warnings.warn(warn_msg)\n"
     ]
    }
   ],
   "source": [
    "# Utilice este espacio para escribir el código.\n",
    "import re\n",
    "import unidecode\n",
    "import spacy\n",
    "\n",
    "\n",
    "nlp = spacy.load(\"es_core_news_sm\")\n"
   ]
  },
  {
   "cell_type": "markdown",
   "id": "de1380c1",
   "metadata": {},
   "source": [
    "Agregar stopwords"
   ]
  },
  {
   "cell_type": "code",
   "execution_count": 81,
   "id": "f2e21415",
   "metadata": {},
   "outputs": [
    {
     "name": "stdout",
     "output_type": "stream",
     "text": [
      "Shape de los stopwords:  169\n",
      "Shape de los extra_stopwords:  313\n",
      "['todo', 'estas', 'tú', 'es', 'ellas', 'tenía', 'vida', 'sido', 'českomoravský', 'estar', 'una', 'seré', 'ser', 'estabas', 'mi', 'alguien', 'tendríais', 'está', 'éstas', 'diez', 'tengas', 'bien', 'basdala', 'tenías', 'fuisteis', 'andrés', 'has', 'estuviéramos', 'tiempo', 'qué', 'sakhan', 'otras', 'hubieses', 'medio', 'un', 'año', 'serás', 'habríamos', 'eras', 'tendrían', 'gordo', 'estaremos', 'estuvieron', 'tuvieron', 'hasta', 'pues', 'celoni', 'šeredova', 'gelós', 'estarás', 'hayáis', 'ellos', 'seáis', 'haya', 'nuestras', 'tetas', 'sin', 'suyos', 'vosostros', 'otro', 'mío', 'habido', 'estarán', 've', 'estaban', 'son', 'tuve', 'hace', 'iveta', 'estás', 'nunca', 'quiero', 'nada', 'fuera', 'toda', 'hernán', 'ésas', 'puede', 'seamos', 'tenéis', 'cuando', 'ése', 'mañana', 'hube', 'fueran', 'sería', 'casi', 'noche', 'me', 'cinco', 'para', 'seis', 'ver', 'quizá', 'canoso', 'tener', 'hemos', 'mundo', 'lucas', 'narcís', 'que', 'estabais', 'hubiesen', 'número', 'cuatro', 'otra', 'tendréis', 'serían', 'les', 'próximo', 'pol', 'nueva', 'hornby', 'ti', 'momento', 'allí', 'luis', 'habréis', 'seréis', 'ésos', 'entre', 'nosotras', 'tenidas', 'tendremos', 'fuesen', 'fenwick', 'veces', 'estaba', 'a', 'estuvieras', 'libro', 'uno', 'seremos', 'estuvisteis', 'tenidos', 'tenida', 'hubieras', 'están', 'tuya', 'fueseis', 'estaré', 'tenga', 'podrán', 'habidas', 'será', 'tuyo', 'hacer', 'estáis', 'tendrá', 'siempre', 'seríais', 'rato', 'fuésemos', 'decir', 'šeredovà', 'así', 'sentidos', 'algunos', 'tanto', 'no', 'habida', 'éste', 'muchos', 'esa', 'sí', 'después', 'menos', 'primer', 'e', 'éramos', 'somos', 'ojos', 'vuestras', 'tuvieran', 'ésto', 'tuvo', 'años', 'se', 'dice', 'la', 'teníamos', 'le', 'poco', 'mónica', 'todavía', 'estén', 'hay', 'tus', 'colo', 'tuvierais', 'tuviste', 'nuestro', 'habrán', 'porque', 'suya', 'estaría', 'mucho', 'he', 'casciari', 'habríais', 'sobre', 'por', 'tuviese', 'estés', 'costoya', 'antes', 'fueses', 'sentido', 'alfonso', 'habían', 'pero', 'todas', 'carla', 'unos', 'estando', 'cómo', 'tan', 'estuvierais', 'mí', 'nosotros', 'esas', 'alejandro', 'habrá', 'estuviésemos', 'fuimos', 'cosa', 'tres', 'hubo', 'sino', 'siente', 'ese', 'fueron', 'fuiste', 'soy', 'solamente', 'estaríais', 'pack', 'os', 'era', 'tienes', 'mía', 'asi', 'ante', 'tuvieras', 'estuviese', 'sabés', 'si', 'mil', 'él', 'tuviesen', 'estuvo', 'estemos', 'todos', 'estaríamos', 'voy', 'entonces', 'pablo', 'eres', 'contra', 'estada', 'costa', 'hubieron', 'chiri', 'comequechu', 'estarían', 'cual', 'dije', 'salas', 'otros', 'horacio', 'esos', 'sean', 'dos', 'sea', 'tenido', 'tuvieses', 'padre', 'en', 'andres', 'tengo', 'hubieseis', 'tendré', 'karen', 'teníais', 'prieto', 'estuviesen', 'éstos', 'habré', 'habiendo', 'moncho', 'esté', 'mientras', 'habíais', 'donde', 'jorge', 'esta', 'seselovsky', 'hubisteis', 'cada', 'tengan', 'tendríamos', 'tiene', 'habidos', 'su', 'va', 'fernando', 'del', 'ésta', 'nuestra', 'nuevo', 'muy', 'vosostras', 'tendrás', 'tuvimos', 'fueras', 'eso', 'días', 'estuviera', 'tu', 'tendrán', 'algunas', 'juan', 'nos', 'nadie', 'erais', 'tenemos', 'sant', 'sentida', 'tendría', 'estuvimos', 'sentid', 'horas', 'lo', 'sus', 'quién', 'habías', 'estéis', 'mis', 'tarde', 'nuestros', 'tengamos', 'tuviéramos', 'ahora', 'paola', 'estuve', 'luego', 'ya', 'chichita', 'cosas', 'hayan', 'hubierais', 'o', 'tengáis', 'digo', 'hubiese', 'hubiésemos', 'hayas', 'ni', 'fuéramos', 'quizás', 'al', 'sintiendo', 'estados', 'casa', 'trece', 'mirta', 'gente', 'peter', 'sólo', 'habrás', 'habremos', 'fuerais', 'podía', 'tuviera', 'waiser', 'solo', 'suyo', 'habría', 'habéis', 'estuviste', 'hans', 'estaréis', 'quienes', 'vuestra', 'habrías', 'esto', 'hubimos', 'fui', 'serías', 'estuvieseis', 'caprio', 'vez', 'ella', 'el', 'estoy', 'teniendo', 'estos', 'jesús', 'madre', 'con', 'ésa', 'tenían', 'estadas', 'estábamos', 'hacía', 'pase', 'tendrías', 'estamos', 'estarías', 'bernardo', 'las', 'han', 'hubiéramos', 'te', 'habrían', 'sentidas', 'tienen', 'semana', 'estuvieses', 'tuyos', 'české', 'yo', 'habíamos', 'los', 'tuviésemos', 'durante', 'teta', 'mismo', 'seas', 'pepe', 'ha', 'tened', 'míos', 'estará', 'alex', 'de', 'quince', 'fuese', 'hubieran', 'haber', 'tuyas', 'algo', 'había', 'soto', 'politto', 'hoy', 'también', 'eran', 'serán', 'este', 'usted', 'estad', 'primera', 'hayamos', 'día', 'estado', 'tuvisteis', 'woung', 'estuvieran', 'más', 'mías', 'tuvieseis', 'seríamos', 'mejor', 'sois', 'hubiste', 'suyas', 'desde', 'como', 'vuestros', 'hará', 'vos', 'quien', 'y', 'dijo', 'fue', 'hernan', 'sé', 'hubiera', 'vuestro']\n"
     ]
    }
   ],
   "source": [
    "#Stopwrods csv\n",
    "stopwords = pd.read_csv('data/stopwords_taller.csv', header=None).values.flatten().tolist()\n",
    "print('Shape de los stopwords: ',len(stopwords))\n",
    "\n",
    "#Extra stopwords csv\n",
    "extra_stopwords = pd.read_csv('data/extra_stopwords.csv', sep=',',header=None).values.flatten().tolist()\n",
    "print('Shape de los extra_stopwords: ',len(extra_stopwords))\n",
    "\n",
    "#Stopwords unicas en csv\n",
    "stopwords_unicas = list(set(extra_stopwords) | set(stopwords))\n",
    "print(stopwords_unicas)\n",
    "\n",
    "#Agregar las stopwords al modelo\n",
    "nlp.Defaults.stop_words |= set(stopwords_unicas)"
   ]
  },
  {
   "cell_type": "code",
   "execution_count": 82,
   "id": "14b47a1e",
   "metadata": {},
   "outputs": [],
   "source": [
    "from nltk.stem.snowball import SpanishStemmer\n",
    "\n",
    "stemmer = SpanishStemmer()\n",
    "\n",
    "def text_cleaning(txt, apply_lemma=True, apply_stemming=True): # eliminar caracteres especiales \n",
    "    # Eliminar caracteres especiales\n",
    "    out = unidecode.unidecode(txt) # tildes y virgulilla - nlp default.stopwords \"las\" incluye e.g. año no la limpiaria\n",
    "    out = re.sub('[^A-Za-z0-9 ]+', ' ',out)\n",
    "    out = re.sub(\"[^\\\\w\\\\s]|\\n\", ' ', out) # simbolos de puntuacion y retornos con esapcios\n",
    "    out = re.sub(\"\\d+\", \"\", out) # numeros por espacios vacios\n",
    "    out = re.sub('\\s+', ' ', out) # remueve espacios extra\n",
    "    out = out.lower() # Poner en minúsculas\n",
    "    #NLP object\n",
    "    out = nlp(out)\n",
    "    # Eliminar Stopwords\n",
    "    out = [token.text for token in out if not token.is_stop]\n",
    "    out = \" \".join(out)\n",
    "    \n",
    "    # Obtener los lemas de cada palabra\n",
    "    if apply_lemma== True:\n",
    "    \n",
    "        lemmas =[token.lemma_ for token in nlp(out)]\n",
    "   \n",
    "    # Apply stemming\n",
    "    if apply_stemming== True:\n",
    "    \n",
    "        lemmas = [stemmer.stem(lemma) for lemma in lemmas]\n",
    "    \n",
    "   \n",
    "    # Convertir la lista de lemmas nuevamente a texto\n",
    "    out = \" \".join(lemmas)\n",
    "    # Remover palabras muy cortas\n",
    "    out = [token.text for token in nlp(out) if len(token) > 2]\n",
    "    \n",
    "    return out"
   ]
  },
  {
   "cell_type": "code",
   "execution_count": 83,
   "id": "616413c8",
   "metadata": {},
   "outputs": [
    {
     "data": {
      "text/html": [
       "<div>\n",
       "<style scoped>\n",
       "    .dataframe tbody tr th:only-of-type {\n",
       "        vertical-align: middle;\n",
       "    }\n",
       "\n",
       "    .dataframe tbody tr th {\n",
       "        vertical-align: top;\n",
       "    }\n",
       "\n",
       "    .dataframe thead th {\n",
       "        text-align: right;\n",
       "    }\n",
       "</style>\n",
       "<table border=\"1\" class=\"dataframe\">\n",
       "  <thead>\n",
       "    <tr style=\"text-align: right;\">\n",
       "      <th></th>\n",
       "      <th>titulo</th>\n",
       "      <th>fecha</th>\n",
       "      <th>cuento</th>\n",
       "      <th>cuento_limpio</th>\n",
       "    </tr>\n",
       "  </thead>\n",
       "  <tbody>\n",
       "    <tr>\n",
       "      <th>0</th>\n",
       "      <td>El rincón blanco</td>\n",
       "      <td>1/11/08</td>\n",
       "      <td>De pronto yo estaba en el hogar donde pasé la ...</td>\n",
       "      <td>[hog, infanci, sab, nariz, acostumbr, penumbr,...</td>\n",
       "    </tr>\n",
       "    <tr>\n",
       "      <th>1</th>\n",
       "      <td>Mínimos avances en la cama</td>\n",
       "      <td>1/24/08</td>\n",
       "      <td>Menos la cama, todo ha mejorado en este mundo....</td>\n",
       "      <td>[cam, mejor, cocinab, sop, fueg, len, met, taz...</td>\n",
       "    </tr>\n",
       "    <tr>\n",
       "      <th>2</th>\n",
       "      <td>Don Marcos</td>\n",
       "      <td>2/19/08</td>\n",
       "      <td>Dos veces, y no una, mi abuelo materno me ayud...</td>\n",
       "      <td>[abuel, matern, ayud, escritor, intencion, con...</td>\n",
       "    </tr>\n",
       "    <tr>\n",
       "      <th>3</th>\n",
       "      <td>Los dos rulfos</td>\n",
       "      <td>3/26/08</td>\n",
       "      <td>A su regreso de México, mi amigo Comequechu no...</td>\n",
       "      <td>[regres, mexic, amig, cont, histori, pas, muj,...</td>\n",
       "    </tr>\n",
       "    <tr>\n",
       "      <th>4</th>\n",
       "      <td>La noticia no es el perro</td>\n",
       "      <td>4/15/08</td>\n",
       "      <td>De repente, un video de You Tube recibe un mil...</td>\n",
       "      <td>[vide, you, tub, recib, millon, visit, autor, ...</td>\n",
       "    </tr>\n",
       "  </tbody>\n",
       "</table>\n",
       "</div>"
      ],
      "text/plain": [
       "                       titulo    fecha  \\\n",
       "0            El rincón blanco  1/11/08   \n",
       "1  Mínimos avances en la cama  1/24/08   \n",
       "2                  Don Marcos  2/19/08   \n",
       "3              Los dos rulfos  3/26/08   \n",
       "4   La noticia no es el perro  4/15/08   \n",
       "\n",
       "                                              cuento  \\\n",
       "0  De pronto yo estaba en el hogar donde pasé la ...   \n",
       "1  Menos la cama, todo ha mejorado en este mundo....   \n",
       "2  Dos veces, y no una, mi abuelo materno me ayud...   \n",
       "3  A su regreso de México, mi amigo Comequechu no...   \n",
       "4  De repente, un video de You Tube recibe un mil...   \n",
       "\n",
       "                                       cuento_limpio  \n",
       "0  [hog, infanci, sab, nariz, acostumbr, penumbr,...  \n",
       "1  [cam, mejor, cocinab, sop, fueg, len, met, taz...  \n",
       "2  [abuel, matern, ayud, escritor, intencion, con...  \n",
       "3  [regres, mexic, amig, cont, histori, pas, muj,...  \n",
       "4  [vide, you, tub, recib, millon, visit, autor, ...  "
      ]
     },
     "execution_count": 83,
     "metadata": {},
     "output_type": "execute_result"
    }
   ],
   "source": [
    "blog_casciari['cuento_limpio']=blog_casciari['cuento'].apply(text_cleaning)\n",
    "blog_casciari.head()"
   ]
  },
  {
   "cell_type": "code",
   "execution_count": 85,
   "id": "9b348d5b",
   "metadata": {},
   "outputs": [
    {
     "name": "stdout",
     "output_type": "stream",
     "text": [
      "Venganza del metegol original:  160    El mes pasado me invitaron a presentar un libr...\n",
      "Name: cuento, dtype: object\n",
      "Venganza del metegol limpiado:  160    [mes, invit, present, air, futbol, charl, dire...\n",
      "Name: cuento_limpio, dtype: object\n"
     ]
    }
   ],
   "source": [
    "venganza_metegol_idx = blog_casciari[blog_casciari['titulo'] == 'La venganza del metegol'].index\n",
    "venganza_metegol = blog_casciari.loc[venganza_metegol_idx,'cuento']\n",
    "venganza_metegol_limpio = blog_casciari.loc[venganza_metegol_idx,'cuento_limpio']\n",
    "print('Venganza del metegol original: ',venganza_metegol)\n",
    "\n",
    "print('Venganza del metegol limpiado: ',venganza_metegol_limpio)\n"
   ]
  },
  {
   "cell_type": "code",
   "execution_count": 110,
   "id": "bd622240",
   "metadata": {},
   "outputs": [
    {
     "data": {
      "text/plain": [
       "['mes',\n",
       " 'invit',\n",
       " 'present',\n",
       " 'air',\n",
       " 'futbol',\n",
       " 'charl',\n",
       " 'director',\n",
       " 'editorial',\n",
       " 'invit',\n",
       " 'jug',\n",
       " 'part',\n",
       " 'metegol',\n",
       " 'invent',\n",
       " 'espanol',\n",
       " 'creador',\n",
       " 'llam',\n",
       " 'erron',\n",
       " 'futbolin',\n",
       " 'ano',\n",
       " 'jug']"
      ]
     },
     "execution_count": 111,
     "metadata": {},
     "output_type": "execute_result"
    }
   ],
   "source": [
    "clean_sentences=list(blog_casciari['cuento_limpio'])\n",
    "\n",
    "clean_sentences[160][:20]"
   ]
  },
  {
   "cell_type": "markdown",
   "metadata": {},
   "source": [
    "Se hizo una función llamada text_cleaning para procesar y limpiar textos en español. Primero, se importó SpanishStemmer de la librería nltk.stem.snowball y se creó una instancia llamada stemmer para el stemming.\n",
    "\n",
    "La función text_cleaning acepta un texto txt y dos parámetros opcionales: apply_lemma y apply_stemming, que se establecen en True por defecto en caso de no querer usar Stemming o Lemmatizacion.\n",
    "\n",
    "Para limpiar el texto, se usó unidecode para normalizar caracteres acentuados y especiales. Luego, se aplicaron expresiones regulares para eliminar caracteres no alfanuméricos, puntuación, y números, sustituyéndolos por espacios vacíos. También se eliminaron los espacios adicionales y se convirtió el texto a minúsculas.\n",
    "\n",
    "El texto limpio se pasó a un objeto de procesamiento NLP (nlp) para eliminar las palabras vacías (stopwords). Si apply_lemma es True, se obtuvieron los lemas de las palabras. Si apply_stemming es True, se aplicó el stemming a estos lemas.\n",
    "\n",
    "Después, los lemas (o las palabras después del stemming) se unieron nuevamente en una cadena de texto. Finalmente, se eliminaron las palabras que tienen 2 caracteres o menos.\n",
    "\n",
    "La función devuelve una lista de palabras que han pasado por estos pasos de limpieza y procesamiento.\n",
    "\n",
    "Finalmente "
   ]
  },
  {
   "cell_type": "markdown",
   "metadata": {},
   "source": [
    "### 3. Generando Recomendaciones\n",
    "\n",
    "En esta sección nos interesa generar recomendaciones de cuentos en el blog a un usuario que leyó 'La venganza del metegol'. Para ello vamos a utilizar distintas estrategias."
   ]
  },
  {
   "cell_type": "markdown",
   "metadata": {},
   "source": [
    "#### 3.1. Recomendaciones basadas en contenidos\n",
    "\n",
    "##### 3.1.1. Genere 5 recomendaciones de más recomendada (1) a menos recomendada (5) para el cuento 'La venganza del metegol' usando en la distancia de coseno donde el texto este vectorizado por `CountVectorizer`. Explique el procedimiento que realizó y como ordenó las recomendaciones."
   ]
  },
  {
   "cell_type": "code",
   "execution_count": 93,
   "metadata": {},
   "outputs": [
    {
     "data": {
      "text/plain": [
       "list"
      ]
     },
     "execution_count": 93,
     "metadata": {},
     "output_type": "execute_result"
    }
   ],
   "source": [
    "# Utilice este espacio para escribir el código.\n",
    "from sklearn.feature_extraction.text import CountVectorizer\n",
    "\n",
    "type(clean_sentences)"
   ]
  },
  {
   "cell_type": "markdown",
   "metadata": {},
   "source": [
    "(Utilice este espacio para describir el procedimiento, análisis, y conclusiones)"
   ]
  },
  {
   "cell_type": "markdown",
   "metadata": {},
   "source": [
    "##### 3.1.2. Genere 5 recomendaciones de más recomendada (1) a menos recomendada (5) para  el cuento 'La venganza del metegol' usando nuevamente la distancia de coseno, pero ahora vectorice el texto usando `TF-IDFVectorizer`. Explique el procedimiento que realizó y como ordenó las recomendaciones. Compare con los resultados del punto anterior y explique sus similitudes y/o diferencias."
   ]
  },
  {
   "cell_type": "code",
   "execution_count": null,
   "metadata": {},
   "outputs": [],
   "source": [
    "# Utilice este espacio para escribir el código."
   ]
  },
  {
   "cell_type": "markdown",
   "metadata": {},
   "source": [
    "(Utilice este espacio para describir el procedimiento, análisis, y conclusiones)"
   ]
  },
  {
   "cell_type": "markdown",
   "metadata": {},
   "source": [
    "##### 3.1.3. Genere 5 recomendaciones de más recomendada (1) a menos recomendada (5) para el cuento 'La venganza del metegol' usando el texto vectorizado por `TF-IDFVectorizer` y la correlación como medida de similitud. Explique el procedimiento que realizó y como ordenó las recomendaciones. Compare con los resultados de los puntos anteriores y explique sus similitudes y/o diferencias."
   ]
  },
  {
   "cell_type": "code",
   "execution_count": null,
   "metadata": {},
   "outputs": [],
   "source": [
    "# Utilice este espacio para escribir el código."
   ]
  },
  {
   "cell_type": "markdown",
   "metadata": {},
   "source": [
    "(Utilice este espacio para describir el procedimiento, análisis, y conclusiones)"
   ]
  },
  {
   "cell_type": "markdown",
   "metadata": {},
   "source": [
    "##### 3.2. Recomendaciones basadas en temas\n",
    "\n",
    "Usando modelado de temas con LDA, encuentre los temas subyacentes en el blog. Explique como eligió el numero óptimo de temas. Utilizando el tema asignado al cuento 'La venganza del metegol' y la probabilidad de pertenecer a este tema genere 5 recomendaciones de más recomendada (1) a menos recomendada (5) para este cuento. Explique el procedimiento que realizó. Compare con los resultados encontrados anteriormente y explique sus similitudes y/o diferencias. (Esto puede tomar mucho tiempo y requerir mucha capacidad computacional, puede aprovechar los recursos de [Google Colab](https://colab.research.google.com/))\n"
   ]
  },
  {
   "cell_type": "code",
   "execution_count": null,
   "metadata": {},
   "outputs": [],
   "source": [
    "# Utilice este espacio para escribir el código."
   ]
  },
  {
   "cell_type": "markdown",
   "metadata": {},
   "source": [
    "(Utilice este espacio para describir el procedimiento, análisis, y conclusiones)"
   ]
  },
  {
   "cell_type": "markdown",
   "metadata": {},
   "source": [
    "### 4 Recomendaciones generales\n",
    "\n",
    "De acuerdo con los resultados encontrados, en su opinión ¿qué procedimiento generó las mejores recomendaciones para la entrada elegida? ¿Cómo implementaría una evaluación objetiva de estas recomendaciones? Justifique su respuesta."
   ]
  },
  {
   "cell_type": "markdown",
   "metadata": {},
   "source": [
    "(Utilice este espacio para describir su procedimiento)"
   ]
  }
 ],
 "metadata": {
  "kernelspec": {
   "display_name": "Python 3 (ipykernel)",
   "language": "python",
   "name": "python3"
  },
  "language_info": {
   "codemirror_mode": {
    "name": "ipython",
    "version": 3
   },
   "file_extension": ".py",
   "mimetype": "text/x-python",
   "name": "python",
   "nbconvert_exporter": "python",
   "pygments_lexer": "ipython3",
   "version": "3.10.13"
  },
  "toc": {
   "base_numbering": 1,
   "nav_menu": {},
   "number_sections": true,
   "sideBar": true,
   "skip_h1_title": false,
   "title_cell": "Table of Contents",
   "title_sidebar": "Contents",
   "toc_cell": false,
   "toc_position": {},
   "toc_section_display": true,
   "toc_window_display": false
  }
 },
 "nbformat": 4,
 "nbformat_minor": 5
}

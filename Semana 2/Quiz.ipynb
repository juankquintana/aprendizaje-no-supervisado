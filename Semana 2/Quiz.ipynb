{
 "cells": [
  {
   "cell_type": "code",
   "execution_count": 5,
   "metadata": {},
   "outputs": [],
   "source": [
    "import numpy as np"
   ]
  },
  {
   "cell_type": "code",
   "execution_count": 13,
   "metadata": {},
   "outputs": [
    {
     "name": "stdout",
     "output_type": "stream",
     "text": [
      "Valores singulares: [2. 0.]\n"
     ]
    }
   ],
   "source": [
    "A=np.array([[2, 0], \n",
    "              [0, 0],\n",
    "              [0, 0]])\n",
    "A\n",
    "\n",
    "A.T @ A\n",
    "\n",
    "U, S, Vt = np.linalg.svd(A)\n",
    "\n",
    "# Imprimir los valores singulares\n",
    "print(\"Valores singulares:\", S)"
   ]
  },
  {
   "cell_type": "code",
   "execution_count": 42,
   "metadata": {},
   "outputs": [
    {
     "name": "stdout",
     "output_type": "stream",
     "text": [
      "Valores singulares: [3. 1.]\n"
     ]
    }
   ],
   "source": [
    "B=np.array([[1, 2], \n",
    "              [2, 1]])\n",
    "\n",
    "\n",
    "\n",
    "# Calcular los valores singulares\n",
    "U, S, Vt = np.linalg.svd(B)\n",
    "\n",
    "\n",
    "\n",
    "# Imprimir los valores singulares\n",
    "print(\"Valores singulares:\", S)"
   ]
  },
  {
   "cell_type": "code",
   "execution_count": 41,
   "metadata": {},
   "outputs": [
    {
     "data": {
      "text/plain": [
       "0.25"
      ]
     },
     "execution_count": 41,
     "metadata": {},
     "output_type": "execute_result"
    }
   ],
   "source": []
  },
  {
   "cell_type": "code",
   "execution_count": 22,
   "metadata": {},
   "outputs": [
    {
     "data": {
      "text/plain": [
       "array([[1., 0., 1., 0.],\n",
       "       [0., 1., 0., 1.]])"
      ]
     },
     "execution_count": 22,
     "metadata": {},
     "output_type": "execute_result"
    }
   ],
   "source": [
    "U = np.array([[1, 0], [0, 1]])\n",
    "\n",
    "\n",
    "S = np.zeros((2, 4))\n",
    "S[0, 0] = 1.41421356\n",
    "S[1, 1] = 1.41421356\n",
    "\n",
    "Vt = np.array([\n",
    "    [0.70710678, 0, 0.70710678, 0],\n",
    "    [0, 0.70710678, 0, 0.70710678],\n",
    "    [-0.70710678, 0, 0.70710678, 0],\n",
    "    [0, -0.70710678, 0, 0.70710678]\n",
    "])\n",
    "\n",
    "# Reconstructing the original matrix X\n",
    "X = U @ S @ Vt\n",
    "X"
   ]
  },
  {
   "cell_type": "code",
   "execution_count": 25,
   "metadata": {},
   "outputs": [
    {
     "data": {
      "text/plain": [
       "(1, 18704801990.25)"
      ]
     },
     "execution_count": 25,
     "metadata": {},
     "output_type": "execute_result"
    }
   ],
   "source": [
    "singular_values = [\n",
    "    136765.5, 38047.9, 28207.7, 22012.5, 19324.1, 13048.4, 10502.7, 9119.8, 8033.3, 7632.0, 6461.4, \n",
    "    6045.8, 5583.4, 5058.5, 4445.3, 4160.4, 4100.1, 3682.0, 3544.3, 3312.6, 3242.9, 2993.3, 2907.7, \n",
    "    2853.4, 2751.7, 2672.4, 2594.5, 2353.4, 2344.0, 2202.1, 2158.5, 2093.1, 2029.2, 1977.2, 1886.0, \n",
    "    1877.6, 1852.0, 1795.8, 1722.3\n",
    "]\n",
    "\n",
    "\n",
    "total_sum_of_squares = 22625814.626\n",
    "\n",
    "squared_values = [x**2 for x in singular_values]\n",
    "\n",
    "cumulative_sum = 0\n",
    "number_of_components = 0\n",
    "\n",
    "# Calculate the cumulative sum of squares and determine the number of components needed\n",
    "for value in squared_values:\n",
    "    cumulative_sum += value\n",
    "    number_of_components += 1\n",
    "    if cumulative_sum >= 0.9 * total_sum_of_squares:\n",
    "        break\n",
    "\n",
    "number_of_components, cumulative_sum"
   ]
  },
  {
   "cell_type": "code",
   "execution_count": 35,
   "metadata": {},
   "outputs": [
    {
     "data": {
      "text/plain": [
       "(82.67017176145578, 22625817258.760002)"
      ]
     },
     "execution_count": 35,
     "metadata": {},
     "output_type": "execute_result"
    }
   ],
   "source": [
    "actual_total_sum_of_squares = sum(squared_values)\n",
    "\n",
    "# Calculate the variance explained by the first singular value using the correct sum of squares\n",
    "variance_explained_by_first_actual = (136765.5 ** 2) / actual_total_sum_of_squares\n",
    "\n",
    "# Convert it to a percentage\n",
    "percentage_explained_by_first_actual = variance_explained_by_first_actual * 100\n",
    "percentage_explained_by_first_actual, actual_total_sum_of_squares"
   ]
  },
  {
   "cell_type": "code",
   "execution_count": 36,
   "metadata": {},
   "outputs": [
    {
     "data": {
      "text/plain": [
       "89.06836139524466"
      ]
     },
     "execution_count": 36,
     "metadata": {},
     "output_type": "execute_result"
    }
   ],
   "source": [
    "variance_explained_by_first_two = (136765.5 ** 2 + 38047.9 ** 2) / actual_total_sum_of_squares\n",
    "\n",
    "# Convert it to a percentage\n",
    "percentage_explained_by_first_two = variance_explained_by_first_two * 100\n",
    "percentage_explained_by_first_two"
   ]
  },
  {
   "cell_type": "code",
   "execution_count": 38,
   "metadata": {},
   "outputs": [
    {
     "data": {
      "text/plain": [
       "92.58502702632565"
      ]
     },
     "execution_count": 38,
     "metadata": {},
     "output_type": "execute_result"
    }
   ],
   "source": [
    "variance_explained_by_first_three = (136765.5 ** 2 + 38047.9 ** 2 + 28207.7 ** 2) / actual_total_sum_of_squares\n",
    "\n",
    "# Convert it to a percentage\n",
    "percentage_explained_by_first_three = variance_explained_by_first_three * 100\n",
    "percentage_explained_by_first_three"
   ]
  },
  {
   "cell_type": "code",
   "execution_count": 33,
   "metadata": {},
   "outputs": [
    {
     "data": {
      "text/plain": [
       "826.7018138103083"
      ]
     },
     "execution_count": 33,
     "metadata": {},
     "output_type": "execute_result"
    }
   ],
   "source": [
    "(136765.5**2)/22625814.626"
   ]
  }
 ],
 "metadata": {
  "kernelspec": {
   "display_name": "VSCEnv",
   "language": "python",
   "name": "python3"
  },
  "language_info": {
   "codemirror_mode": {
    "name": "ipython",
    "version": 3
   },
   "file_extension": ".py",
   "mimetype": "text/x-python",
   "name": "python",
   "nbconvert_exporter": "python",
   "pygments_lexer": "ipython3",
   "version": "3.10.13"
  }
 },
 "nbformat": 4,
 "nbformat_minor": 2
}
